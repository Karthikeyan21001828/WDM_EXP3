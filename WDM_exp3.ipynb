{
 "cells": [
  {
   "cell_type": "code",
   "execution_count": 4,
   "metadata": {
    "id": "x_nngS0QLeb2"
   },
   "outputs": [],
   "source": [
    "from collections import defaultdict\n",
    "from itertools import combinations\n",
    "# Function to generate candidate k-item sequences\n",
    "def generate_candidates(dataset, k):\n",
    "    candidates = defaultdict(int)\n",
    "    for sequence in dataset:\n",
    "        for itemset in combinations(sequence, k):\n",
    "            candidates[itemset] += 1\n",
    "    return {item: support for item, support in candidates.items() if support >= min_support}"
   ]
  },
  {
   "cell_type": "code",
   "execution_count": 5,
   "metadata": {
    "id": "jnZFFVEULvdr"
   },
   "outputs": [],
   "source": [
    "# Function to perform GSP algorithm\n",
    "def gsp(dataset, min_support):\n",
    "    # Initialize frequent patterns dictionary\n",
    "    frequent_patterns = defaultdict(int)\n",
    "    k = 1\n",
    "    while True:\n",
    "        candidates = generate_candidates(dataset, k)\n",
    "        # Prune candidates with support less than min_support\n",
    "        if not candidates:\n",
    "            break\n",
    "        frequent_patterns.update(candidates)\n",
    "        k += 1\n",
    "    return frequent_patterns\n"
   ]
  },
  {
   "cell_type": "code",
   "execution_count": 6,
   "metadata": {
    "colab": {
     "base_uri": "https://localhost:8080/"
    },
    "id": "Z_ab5LcFL217",
    "outputId": "4f94aa29-7883-4a04-993d-9e068a050fb7"
   },
   "outputs": [
    {
     "name": "stdout",
     "output_type": "stream",
     "text": [
      "Frequent Sequential Patterns - Top Wear:\n",
      "Pattern: ('hoodie',), Support: 3\n",
      "Pattern: ('sweater',), Support: 2\n",
      "Pattern: ('hoodie', 'sweater'), Support: 2\n",
      "\n",
      "Frequent Sequential Patterns - Bottom Wear:\n",
      "No frequent sequential patterns found in Bottom Wear.\n",
      "\n",
      "Frequent Sequential Patterns - Party Wear:\n",
      "Pattern: ('party_dress',), Support: 6\n",
      "Pattern: ('formal_dress',), Support: 4\n",
      "Pattern: ('suit',), Support: 4\n",
      "Pattern: ('party_dress', 'formal_dress'), Support: 4\n",
      "Pattern: ('party_dress', 'suit'), Support: 4\n",
      "Pattern: ('formal_dress', 'suit'), Support: 4\n",
      "Pattern: ('party_dress', 'formal_dress', 'suit'), Support: 4\n"
     ]
    }
   ],
   "source": [
    "#Example dataset for each category\n",
    "top_wear_data = [\n",
    " [\"blouse\", \"t-shirt\", \"tank_top\"],\n",
    " [\"hoodie\", \"sweater\", \"top\"],[\"hoodie\"],[\"hoodie\",\"sweater\"]\n",
    " #Add more sequences for top wear\n",
    "]\n",
    "bottom_wear_data = [\n",
    " [\"jeans\", \"trousers\", \"shorts\"],\n",
    " [\"leggings\", \"skirt\", \"chinos\"],\n",
    " # Add more sequences for bottom wear\n",
    "]\n",
    "party_wear_data = [\n",
    " [\"cocktail_dress\", \"evening_gown\", \"blazer\"],\n",
    " [\"party_dress\", \"formal_dress\", \"suit\"],\n",
    " [\"party_dress\", \"formal_dress\", \"suit\"],\n",
    " [\"party_dress\", \"formal_dress\", \"suit\"],\n",
    " [\"party_dress\", \"formal_dress\", \"suit\"],\n",
    " [\"party_dress\"],[\"party_dress\"],\n",
    " # Add more sequences for party wear\n",
    "]\n",
    "#Minimum support threshold\n",
    "min_support = 2\n",
    "#Perform GSP algorithm for each category\n",
    "top_wear_result = gsp(top_wear_data, min_support)\n",
    "bottom_wear_result = gsp(bottom_wear_data, min_support)\n",
    "party_wear_result = gsp(party_wear_data, min_support)\n",
    "#Output the frequent sequential patterns for each category\n",
    "print(\"Frequent Sequential Patterns - Top Wear:\")\n",
    "if top_wear_result:\n",
    " for pattern, support in top_wear_result.items():\n",
    "  print(f\"Pattern: {pattern}, Support: {support}\")\n",
    "else:\n",
    " print(\"No frequent sequential patterns found in Top Wear.\")\n",
    "print(\"\\nFrequent Sequential Patterns - Bottom Wear:\")\n",
    "if bottom_wear_result:\n",
    " for pattern, support in bottom_wear_result.items():\n",
    "  print(f\"Pattern: {pattern}, Support: {support}\")\n",
    "else:\n",
    " print(\"No frequent sequential patterns found in Bottom Wear.\")\n",
    "print(\"\\nFrequent Sequential Patterns - Party Wear:\")\n",
    "if party_wear_result:\n",
    " for pattern, support in party_wear_result.items():\n",
    "  print(f\"Pattern: {pattern}, Support: {support}\")\n",
    "else:\n",
    " print(\"No frequent sequential patterns found in Party Wear.\")"
   ]
  },
  {
   "cell_type": "code",
   "execution_count": null,
   "metadata": {},
   "outputs": [],
   "source": []
  }
 ],
 "metadata": {
  "colab": {
   "provenance": []
  },
  "kernelspec": {
   "display_name": "Python 3 (ipykernel)",
   "language": "python",
   "name": "python3"
  },
  "language_info": {
   "codemirror_mode": {
    "name": "ipython",
    "version": 3
   },
   "file_extension": ".py",
   "mimetype": "text/x-python",
   "name": "python",
   "nbconvert_exporter": "python",
   "pygments_lexer": "ipython3",
   "version": "3.11.5"
  }
 },
 "nbformat": 4,
 "nbformat_minor": 1
}
